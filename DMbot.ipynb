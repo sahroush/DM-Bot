{
  "cells": [
    {
      "cell_type": "markdown",
      "metadata": {
        "id": "view-in-github",
        "colab_type": "text"
      },
      "source": [
        "<a href=\"https://colab.research.google.com/github/sahroush/DM-Bot/blob/main/DMbot.ipynb\" target=\"_parent\"><img src=\"https://colab.research.google.com/assets/colab-badge.svg\" alt=\"Open In Colab\"/></a>"
      ]
    },
    {
      "cell_type": "code",
      "execution_count": null,
      "metadata": {
        "colab": {
          "base_uri": "https://localhost:8080/"
        },
        "id": "JHqjofjBZXT5",
        "outputId": "c5fd0c38-99f9-403f-bd4a-edd103680b7c"
      },
      "outputs": [
        {
          "name": "stdout",
          "output_type": "stream",
          "text": [
            "\u001b[33mWARNING: Skipping python-telegram-bot as it is not installed.\u001b[0m\u001b[33m\n",
            "\u001b[0mCollecting python-telegram-bot==13.7\n",
            "  Downloading python_telegram_bot-13.7-py3-none-any.whl (490 kB)\n",
            "\u001b[2K     \u001b[90m━━━━━━━━━━━━━━━━━━━━━━━━━━━━━━━━━━━━━━━━\u001b[0m \u001b[32m490.1/490.1 kB\u001b[0m \u001b[31m2.8 MB/s\u001b[0m eta \u001b[36m0:00:00\u001b[0m\n",
            "\u001b[?25hRequirement already satisfied: certifi in /usr/local/lib/python3.10/dist-packages (from python-telegram-bot==13.7) (2023.11.17)\n",
            "Requirement already satisfied: tornado>=6.1 in /usr/local/lib/python3.10/dist-packages (from python-telegram-bot==13.7) (6.3.2)\n",
            "Collecting APScheduler==3.6.3 (from python-telegram-bot==13.7)\n",
            "  Downloading APScheduler-3.6.3-py2.py3-none-any.whl (58 kB)\n",
            "\u001b[2K     \u001b[90m━━━━━━━━━━━━━━━━━━━━━━━━━━━━━━━━━━━━━━━━\u001b[0m \u001b[32m58.9/58.9 kB\u001b[0m \u001b[31m4.9 MB/s\u001b[0m eta \u001b[36m0:00:00\u001b[0m\n",
            "\u001b[?25hRequirement already satisfied: pytz>=2018.6 in /usr/local/lib/python3.10/dist-packages (from python-telegram-bot==13.7) (2023.3.post1)\n",
            "Collecting cachetools==4.2.2 (from python-telegram-bot==13.7)\n",
            "  Downloading cachetools-4.2.2-py3-none-any.whl (11 kB)\n",
            "Requirement already satisfied: setuptools>=0.7 in /usr/local/lib/python3.10/dist-packages (from APScheduler==3.6.3->python-telegram-bot==13.7) (67.7.2)\n",
            "Requirement already satisfied: six>=1.4.0 in /usr/local/lib/python3.10/dist-packages (from APScheduler==3.6.3->python-telegram-bot==13.7) (1.16.0)\n",
            "Requirement already satisfied: tzlocal>=1.2 in /usr/local/lib/python3.10/dist-packages (from APScheduler==3.6.3->python-telegram-bot==13.7) (5.2)\n",
            "Installing collected packages: cachetools, APScheduler, python-telegram-bot\n",
            "  Attempting uninstall: cachetools\n",
            "    Found existing installation: cachetools 5.3.2\n",
            "    Uninstalling cachetools-5.3.2:\n",
            "      Successfully uninstalled cachetools-5.3.2\n",
            "\u001b[31mERROR: pip's dependency resolver does not currently take into account all the packages that are installed. This behaviour is the source of the following dependency conflicts.\n",
            "llmx 0.0.15a0 requires cohere, which is not installed.\n",
            "llmx 0.0.15a0 requires openai, which is not installed.\n",
            "llmx 0.0.15a0 requires tiktoken, which is not installed.\u001b[0m\u001b[31m\n",
            "\u001b[0mSuccessfully installed APScheduler-3.6.3 cachetools-4.2.2 python-telegram-bot-13.7\n"
          ]
        }
      ],
      "source": [
        "!pip uninstall python-telegram-bot\n",
        "!pip install python-telegram-bot==13.7\n"
      ]
    },
    {
      "cell_type": "markdown",
      "metadata": {
        "id": "oxY1eB1IebAy"
      },
      "source": [
        "6439138310:AAFJgQi2O7fSGmaTLo3LOQl9oeY75NOwaXk"
      ]
    },
    {
      "cell_type": "code",
      "execution_count": null,
      "metadata": {
        "colab": {
          "base_uri": "https://localhost:8080/"
        },
        "id": "KXyuBoL0Xa50",
        "outputId": "78ef76ec-1ce3-4c9a-d1ba-2b735e962b16"
      },
      "outputs": [
        {
          "name": "stdout",
          "output_type": "stream",
          "text": [
            "Mounted at /content/drive\n"
          ]
        }
      ],
      "source": [
        "from google.colab import drive\n",
        "\n",
        "# Mount Google Drive\n",
        "drive.mount('/content/drive')"
      ]
    },
    {
      "cell_type": "code",
      "execution_count": null,
      "metadata": {
        "id": "eifji5gLXbuh"
      },
      "outputs": [],
      "source": [
        "import os\n",
        "\n",
        "# List files in the root of Google Drive\n",
        "drive_path = '/content/drive/MyDrive/DMBot/'\n",
        "files = os.listdir(drive_path)\n",
        "print(files)\n"
      ]
    },
    {
      "cell_type": "code",
      "execution_count": null,
      "metadata": {
        "id": "NCfgLknJZvFY"
      },
      "outputs": [],
      "source": [
        "from telegram import Update\n",
        "from telegram.ext import Updater, CommandHandler, MessageHandler, Filters, CallbackContext\n",
        "\n",
        "# Dictionary to store registered users\n",
        "registered_users = {}\n",
        "\n",
        "# Define the start command\n",
        "def start(update: Update, context: CallbackContext) -> None:\n",
        "    user_id = update.effective_user.id\n",
        "    if user_id not in registered_users:\n",
        "        context.bot.send_message(chat_id=update.effective_chat.id, text=\"Welcome! Use /help to see available commands.\")\n",
        "    else:\n",
        "        context.bot.send_message(chat_id=update.effective_chat.id, text=\"Welcome back!\")\n",
        "\n",
        "# Define the help command\n",
        "def help_command(update: Update, context: CallbackContext) -> None:\n",
        "    context.bot.send_message(chat_id=update.effective_chat.id, text=\"Available commands:\\n/start - Display a welcome message\\n/help - Show help\\n/register [SID] - Register with a 9-digit number\\n/get_task [easy/medium/hard] get a task with custom difficulty\")\n",
        "\n",
        "# Define the register command\n",
        "def register(update: Update, context: CallbackContext) -> None:\n",
        "    user_id = update.effective_user.id\n",
        "\n",
        "    if user_id in registered_users:\n",
        "        context.bot.send_message(chat_id=update.effective_chat.id, text=\"You are already registered.\")\n",
        "    else:\n",
        "        args = context.args\n",
        "        if len(args) == 1 and args[0].isdigit() and len(args[0]) == 9:\n",
        "            number = args[0]\n",
        "            if number in registered_users.values():\n",
        "                context.bot.send_message(chat_id=update.effective_chat.id, text=\"This number is already connected to another user.\")\n",
        "            else:\n",
        "                registered_users[user_id] = number\n",
        "                context.bot.send_message(chat_id=update.effective_chat.id, text=f\"Registration successful! Your number: {str(number)}\")\n",
        "        else:\n",
        "            context.bot.send_message(chat_id=update.effective_chat.id, text=\"Invalid format. Please use /register followed by a 9-digit number.\")\n",
        "\n",
        "def get_task(update: Update, context: CallbackContext) -> None:\n",
        "    filename = drive_path + '1.pdf'\n",
        "    context.bot.send_document(update.message.chat_id, document=open(filename, 'rb'))\n",
        "\n",
        "# Main function to start the bot\n",
        "def main() -> None:\n",
        "    # Replace 'YOUR_BOT_TOKEN' with your actual bot token\n",
        "    updater = Updater(\"6439138310:AAFJgQi2O7fSGmaTLo3LOQl9oeY75NOwaXk\")\n",
        "\n",
        "    dp = updater.dispatcher\n",
        "\n",
        "    dp.add_handler(CommandHandler(\"start\", start))\n",
        "    dp.add_handler(CommandHandler(\"help\", help_command))\n",
        "    dp.add_handler(CommandHandler(\"register\", register, pass_args=True))\n",
        "    dp.add_handler(CommandHandler(\"get_task\", get_task, pass_args=True))\n",
        "\n",
        "    updater.start_polling()\n",
        "    updater.idle()\n",
        "\n",
        "if __name__ == '__main__':\n",
        "    main()\n"
      ]
    }
  ],
  "metadata": {
    "colab": {
      "provenance": [],
      "authorship_tag": "ABX9TyOc9KcNLisTbDfucXWk8W1d",
      "include_colab_link": true
    },
    "kernelspec": {
      "display_name": "Python 3",
      "name": "python3"
    },
    "language_info": {
      "name": "python"
    }
  },
  "nbformat": 4,
  "nbformat_minor": 0
}